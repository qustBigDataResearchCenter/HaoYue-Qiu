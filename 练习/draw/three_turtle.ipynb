{
 "cells": [
  {
   "cell_type": "code",
   "execution_count": 1,
   "metadata": {},
   "outputs": [],
   "source": [
    "import turtle\n",
    "\n",
    "def draw():\n",
    "    window=turtle.Screen()\n",
    "    window.bgcolor('orange')\n",
    "    \n",
    "    \n",
    "    brad=turtle.Turtle()\n",
    "    andy=turtle.Turtle()\n",
    "    gorge=turtle.Turtle()\n",
    "    \n",
    "    brad.shape('turtle')\n",
    "    brad.color('white')\n",
    "    andy.color('blue')\n",
    "    gorge.color('red')\n",
    "    \n",
    "    \n",
    "    brad.forward(200)\n",
    "    brad.right(90)\n",
    "    brad.forward(200)\n",
    "    brad.right(90)\n",
    "    brad.forward(200)\n",
    "    brad.right(90)\n",
    "    brad.forward(200)\n",
    "    \n",
    "    andy.circle(80)\n",
    "    \n",
    "    gorge.left(30)\n",
    "    gorge.forward(100)\n",
    "    gorge.right(90)\n",
    "    gorge.forward(50)\n",
    "    \n",
    "    \n",
    "    \n",
    "    window.exitonclick()\n",
    "    \n",
    "draw()"
   ]
  },
  {
   "cell_type": "code",
   "execution_count": null,
   "metadata": {
    "scrolled": true
   },
   "outputs": [],
   "source": []
  },
  {
   "cell_type": "code",
   "execution_count": null,
   "metadata": {},
   "outputs": [],
   "source": []
  },
  {
   "cell_type": "code",
   "execution_count": null,
   "metadata": {
    "collapsed": true
   },
   "outputs": [],
   "source": []
  },
  {
   "cell_type": "code",
   "execution_count": null,
   "metadata": {},
   "outputs": [],
   "source": []
  },
  {
   "cell_type": "code",
   "execution_count": null,
   "metadata": {},
   "outputs": [],
   "source": []
  },
  {
   "cell_type": "code",
   "execution_count": null,
   "metadata": {},
   "outputs": [],
   "source": []
  },
  {
   "cell_type": "code",
   "execution_count": null,
   "metadata": {},
   "outputs": [],
   "source": []
  },
  {
   "cell_type": "code",
   "execution_count": null,
   "metadata": {
    "collapsed": true
   },
   "outputs": [],
   "source": []
  }
 ],
 "metadata": {
  "kernelspec": {
   "display_name": "Python 3",
   "language": "python",
   "name": "python3"
  },
  "language_info": {
   "codemirror_mode": {
    "name": "ipython",
    "version": 3
   },
   "file_extension": ".py",
   "mimetype": "text/x-python",
   "name": "python",
   "nbconvert_exporter": "python",
   "pygments_lexer": "ipython3",
   "version": "3.6.2"
  }
 },
 "nbformat": 4,
 "nbformat_minor": 2
}
