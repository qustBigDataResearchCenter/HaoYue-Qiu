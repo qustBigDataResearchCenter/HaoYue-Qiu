{
 "cells": [
  {
   "cell_type": "code",
   "execution_count": 1,
   "metadata": {},
   "outputs": [],
   "source": [
    "import turtle\n",
    "\n",
    "def draw_square():\n",
    "    window=turtle.Screen()\n",
    "    window.bgcolor('black')\n",
    "    \n",
    "    \n",
    "    brad=turtle.Turtle()\n",
    "    brad.shape('turtle')\n",
    "    brad.color('white')\n",
    "\n",
    "    brad.speed(5)\n",
    "    \n",
    "    brad.forward(200)\n",
    "    brad.right(90)\n",
    "    brad.forward(200)\n",
    "    brad.right(90)\n",
    "    brad.forward(200)\n",
    "    brad.right(90)\n",
    "    brad.forward(200)\n",
    "    \n",
    "    window.exitonclick()\n",
    "    \n",
    "draw_square()"
   ]
  },
  {
   "cell_type": "code",
   "execution_count": null,
   "metadata": {},
   "outputs": [],
   "source": []
  },
  {
   "cell_type": "code",
   "execution_count": null,
   "metadata": {
    "collapsed": true
   },
   "outputs": [],
   "source": []
  }
 ],
 "metadata": {
  "kernelspec": {
   "display_name": "Python 3",
   "language": "python",
   "name": "python3"
  },
  "language_info": {
   "codemirror_mode": {
    "name": "ipython",
    "version": 3
   },
   "file_extension": ".py",
   "mimetype": "text/x-python",
   "name": "python",
   "nbconvert_exporter": "python",
   "pygments_lexer": "ipython3",
   "version": "3.6.2"
  }
 },
 "nbformat": 4,
 "nbformat_minor": 2
}
