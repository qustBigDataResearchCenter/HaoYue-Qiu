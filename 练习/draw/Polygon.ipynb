{
 "cells": [
  {
   "cell_type": "code",
   "execution_count": 1,
   "metadata": {},
   "outputs": [],
   "source": [
    "import turtle\n",
    "\n",
    "def Pentagram():\n",
    "    \n",
    "    window=turtle.Screen()\n",
    "    window.bgcolor('yellow')\n",
    "    \n",
    "    \n",
    "    andy=turtle.Turtle()\n",
    "    andy.shape('turtle')\n",
    "    andy.color('red')\n",
    "    \n",
    "    andy.forward(200)\n",
    "    andy.left(150)\n",
    "    andy.forward(200)\n",
    "    andy.left(150)\n",
    "    andy.forward(200)\n",
    "    andy.left(150)\n",
    "    andy.forward(200)\n",
    "    andy.left(150)\n",
    "    andy.forward(200)\n",
    "    andy.left(150)\n",
    "    andy.forward(200)\n",
    "    andy.left(150)\n",
    "    andy.forward(200)\n",
    "    andy.left(150)\n",
    "    andy.forward(200)\n",
    "    andy.left(150)\n",
    "    andy.forward(200)\n",
    "    andy.left(150)\n",
    "    andy.forward(200)\n",
    "    andy.left(150)\n",
    "    andy.forward(200)\n",
    "    andy.left(150)\n",
    "    andy.forward(200)\n",
    "    andy.left(150)\n",
    "    andy.forward(200)\n",
    "    \n",
    "    window.exitonclick()\n",
    "    \n",
    "    \n",
    "Pentagram()"
   ]
  },
  {
   "cell_type": "code",
   "execution_count": null,
   "metadata": {
    "scrolled": true
   },
   "outputs": [],
   "source": []
  },
  {
   "cell_type": "code",
   "execution_count": null,
   "metadata": {
    "collapsed": true
   },
   "outputs": [],
   "source": []
  },
  {
   "cell_type": "code",
   "execution_count": null,
   "metadata": {
    "collapsed": true
   },
   "outputs": [],
   "source": []
  }
 ],
 "metadata": {
  "kernelspec": {
   "display_name": "Python 3",
   "language": "python",
   "name": "python3"
  },
  "language_info": {
   "codemirror_mode": {
    "name": "ipython",
    "version": 3
   },
   "file_extension": ".py",
   "mimetype": "text/x-python",
   "name": "python",
   "nbconvert_exporter": "python",
   "pygments_lexer": "ipython3",
   "version": "3.6.2"
  }
 },
 "nbformat": 4,
 "nbformat_minor": 2
}
