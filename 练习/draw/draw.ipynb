{
 "cells": [
  {
   "cell_type": "code",
   "execution_count": 1,
   "metadata": {},
   "outputs": [],
   "source": [
    "import turtle\n",
    "\n",
    "def draw_square(some_turtle):\n",
    "    \n",
    "    for i in range(1,5):\n",
    "        some_turtle.forward(200)\n",
    "        some_turtle.right(90)\n",
    "    \n",
    "\n",
    "def draw():\n",
    "    window=turtle.Screen()\n",
    "    window.bgcolor('orange')\n",
    "    \n",
    "    \n",
    "    brad=turtle.Turtle()\n",
    "    brad.shape('turtle')\n",
    "    brad.color('white')\n",
    "    \n",
    "    andy=turtle.Turtle()\n",
    "    andy.color('blue')\n",
    "    andy.shape('arrow')\n",
    "    \n",
    "    draw_square(brad)\n",
    "    \n",
    "    andy.circle(80)\n",
    "    \n",
    "    \n",
    "    window.exitonclick()\n",
    "    \n",
    "draw()"
   ]
  },
  {
   "cell_type": "code",
   "execution_count": null,
   "metadata": {
    "scrolled": true
   },
   "outputs": [],
   "source": []
  },
  {
   "cell_type": "code",
   "execution_count": null,
   "metadata": {
    "collapsed": true
   },
   "outputs": [],
   "source": []
  },
  {
   "cell_type": "code",
   "execution_count": null,
   "metadata": {
    "collapsed": true
   },
   "outputs": [],
   "source": []
  }
 ],
 "metadata": {
  "kernelspec": {
   "display_name": "Python 3",
   "language": "python",
   "name": "python3"
  },
  "language_info": {
   "codemirror_mode": {
    "name": "ipython",
    "version": 3
   },
   "file_extension": ".py",
   "mimetype": "text/x-python",
   "name": "python",
   "nbconvert_exporter": "python",
   "pygments_lexer": "ipython3",
   "version": "3.6.2"
  }
 },
 "nbformat": 4,
 "nbformat_minor": 2
}
