{
 "cells": [
  {
   "cell_type": "code",
   "execution_count": 1,
   "metadata": {},
   "outputs": [
    {
     "name": "stdout",
     "output_type": "stream",
     "text": [
      "C:\\Users\\Administrator\n",
      "old_filename: -- .DS_Store\n",
      "new_filename: -- .DS_Store\n",
      "old_filename: -- 16los angeles.jpg\n",
      "new_filename: -- los angeles.jpg\n",
      "old_filename: -- 17cairo.jpg\n",
      "new_filename: -- cairo.jpg\n",
      "old_filename: -- 22rochester.jpg\n",
      "new_filename: -- rochester.jpg\n",
      "old_filename: -- 25madrid.jpg\n",
      "new_filename: -- madrid.jpg\n",
      "old_filename: -- 28houston.jpg\n",
      "new_filename: -- houston.jpg\n",
      "old_filename: -- 29bristol.jpg\n",
      "new_filename: -- bristol.jpg\n",
      "old_filename: -- 29buenos aires.jpg\n",
      "new_filename: -- buenos aires.jpg\n",
      "old_filename: -- 2chennai.jpg\n",
      "new_filename: -- chennai.jpg\n",
      "old_filename: -- 2hyderabad.jpg\n",
      "new_filename: -- hyderabad.jpg\n",
      "old_filename: -- 35miami.jpg\n",
      "new_filename: -- miami.jpg\n",
      "old_filename: -- 36sydney.jpg\n",
      "new_filename: -- sydney.jpg\n",
      "old_filename: -- 37athens.jpg\n",
      "new_filename: -- athens.jpg\n",
      "old_filename: -- 41seoul.jpg\n",
      "new_filename: -- seoul.jpg\n",
      "old_filename: -- 45austin.jpg\n",
      "new_filename: -- austin.jpg\n",
      "old_filename: -- 45ithaca.jpg\n",
      "new_filename: -- ithaca.jpg\n",
      "old_filename: -- 46colombo.jpg\n",
      "new_filename: -- colombo.jpg\n",
      "old_filename: -- 47london.jpg\n",
      "new_filename: -- london.jpg\n",
      "old_filename: -- 47sao paulo.jpg\n",
      "new_filename: -- sao paulo.jpg\n",
      "old_filename: -- 47singapore.jpg\n",
      "new_filename: -- singapore.jpg\n",
      "old_filename: -- 48sunnyvale.jpg\n",
      "new_filename: -- sunnyvale.jpg\n",
      "old_filename: -- 4istanbul.jpg\n",
      "new_filename: -- istanbul.jpg\n",
      "old_filename: -- 50san diego.jpg\n",
      "new_filename: -- san diego.jpg\n",
      "old_filename: -- 52new york.jpg\n",
      "new_filename: -- new york.jpg\n",
      "old_filename: -- 54dallas.jpg\n",
      "new_filename: -- dallas.jpg\n",
      "old_filename: -- 55kiev.jpg\n",
      "new_filename: -- kiev.jpg\n",
      "old_filename: -- 5bogota.jpg\n",
      "new_filename: -- bogota.jpg\n",
      "old_filename: -- 61edinbrugh.jpg\n",
      "new_filename: -- edinbrugh.jpg\n",
      "old_filename: -- 64seattle.jpg\n",
      "new_filename: -- seattle.jpg\n",
      "old_filename: -- 66san jose.jpg\n",
      "new_filename: -- san jose.jpg\n",
      "old_filename: -- 68pune.jpg\n",
      "new_filename: -- pune.jpg\n",
      "old_filename: -- 69chicago.jpg\n",
      "new_filename: -- chicago.jpg\n",
      "old_filename: -- 69shanghai.jpg\n",
      "new_filename: -- shanghai.jpg\n",
      "old_filename: -- 72bangalore.jpg\n",
      "new_filename: -- bangalore.jpg\n",
      "old_filename: -- 72bucharest.jpg\n",
      "new_filename: -- bucharest.jpg\n",
      "old_filename: -- 73delhi.jpg\n",
      "new_filename: -- delhi.jpg\n",
      "old_filename: -- 74tel aviv.jpg\n",
      "new_filename: -- tel aviv.jpg\n",
      "old_filename: -- 83gainesville.jpg\n",
      "new_filename: -- gainesville.jpg\n",
      "old_filename: -- 88jacksonville.jpg\n",
      "new_filename: -- jacksonville.jpg\n",
      "old_filename: -- 89berkeley.jpg\n",
      "new_filename: -- berkeley.jpg\n",
      "old_filename: -- 90beijing.jpg\n",
      "new_filename: -- beijing.jpg\n",
      "old_filename: -- 93manchester.jpg\n",
      "new_filename: -- manchester.jpg\n",
      "old_filename: -- 96karachi.jpg\n",
      "new_filename: -- karachi.jpg\n",
      "old_filename: -- 97oakland.jpg\n",
      "new_filename: -- oakland.jpg\n",
      "old_filename: -- 9barcelona.jpg\n",
      "new_filename: -- barcelona.jpg\n"
     ]
    }
   ],
   "source": [
    "import os\n",
    "from string import digits\n",
    "remove_digits = str.maketrans('', '', digits)\n",
    "\n",
    "def rename_files():\n",
    "#找到需要重命名的文件\n",
    "    file_list=os.listdir(r'G:\\HaoYue-Qiu\\练习\\rename_file\\prank')\n",
    "    #print(file_list)\n",
    "    \n",
    "    current_working_path=os.getcwd()\n",
    "    print(current_working_path)\n",
    "    os.chdir(r'G:\\HaoYue-Qiu\\练习\\rename_file\\prank')\n",
    "#重命名每个文件\n",
    "    for file_name in file_list:\n",
    "        print('old_filename:','--',file_name)\n",
    "        os.rename(file_name,file_name.translate(remove_digits))\n",
    "        print('new_filename:','--',file_name.translate(remove_digits))\n",
    "     \n",
    "    os.chdir(r'G:\\HaoYue-Qiu\\练习\\rename_file\\prank')\n",
    "rename_files()"
   ]
  },
  {
   "cell_type": "code",
   "execution_count": 32,
   "metadata": {},
   "outputs": [
    {
     "name": "stdout",
     "output_type": "stream",
     "text": [
      "abcdefghizero\n"
     ]
    }
   ],
   "source": [
    "from string import digits\n",
    "\n",
    "s = 'abc123def456ghi789zero0'\n",
    "remove_digits = str.maketrans('', '', digits)\n",
    "res = s.translate(remove_digits)\n",
    "# 'abcdefghizero'\n",
    "print(res)"
   ]
  },
  {
   "cell_type": "code",
   "execution_count": null,
   "metadata": {
    "collapsed": true
   },
   "outputs": [],
   "source": []
  }
 ],
 "metadata": {
  "kernelspec": {
   "display_name": "Python 3",
   "language": "python",
   "name": "python3"
  },
  "language_info": {
   "codemirror_mode": {
    "name": "ipython",
    "version": 3
   },
   "file_extension": ".py",
   "mimetype": "text/x-python",
   "name": "python",
   "nbconvert_exporter": "python",
   "pygments_lexer": "ipython3",
   "version": "3.6.2"
  }
 },
 "nbformat": 4,
 "nbformat_minor": 2
}
