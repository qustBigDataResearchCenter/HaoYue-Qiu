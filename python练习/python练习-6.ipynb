{
 "cells": [
  {
   "cell_type": "code",
   "execution_count": 5,
   "metadata": {},
   "outputs": [
    {
     "name": "stdout",
     "output_type": "stream",
     "text": [
      "{'z': 3, 'a': 2, 'c': 1}\n"
     ]
    }
   ],
   "source": [
    "    counts=dict()\n",
    "    names=['z','a','a','z','z','c']\n",
    "    for name in names:\n",
    "        if name not in counts:\n",
    "            counts[name]=1\n",
    "            #print(counts)\n",
    "        else:\n",
    "            counts[name]=counts[name]+1\n",
    "            #print(counts)\n",
    "    print(counts)"
   ]
  },
  {
   "cell_type": "code",
   "execution_count": 1,
   "metadata": {},
   "outputs": [
    {
     "name": "stdout",
     "output_type": "stream",
     "text": [
      "2 0\n"
     ]
    }
   ],
   "source": [
    "counts={'z': 3, 'a': 2, 'c': 1}\n",
    "x=counts.get('a',0)\n",
    "y=counts.get('m',0)\n",
    "print(x,y)"
   ]
  },
  {
   "cell_type": "code",
   "execution_count": 2,
   "metadata": {},
   "outputs": [
    {
     "name": "stdout",
     "output_type": "stream",
     "text": [
      "{'n': 3, 'm': 4, 't': 1, 'r': 2}\n"
     ]
    }
   ],
   "source": [
    "d=dict()\n",
    "l=['n','m','t','m','m','n','r','m','n','r']\n",
    "for i in l:\n",
    "    d[i]=d.get(i,0)+1\n",
    "print(d)"
   ]
  },
  {
   "cell_type": "code",
   "execution_count": 21,
   "metadata": {},
   "outputs": [
    {
     "name": "stdout",
     "output_type": "stream",
     "text": [
      "enter a line of txt:the clown ran after the car and the car ran into the tent and the tent fell down on the clown and the car\n",
      "words: ['the', 'clown', 'ran', 'after', 'the', 'car', 'and', 'the', 'car', 'ran', 'into', 'the', 'tent', 'and', 'the', 'tent', 'fell', 'down', 'on', 'the', 'clown', 'and', 'the', 'car']\n",
      "counting...\n",
      "{'the': 7, 'clown': 2, 'ran': 2, 'after': 1, 'car': 3, 'and': 3, 'into': 1, 'tent': 2, 'fell': 1, 'down': 1, 'on': 1}\n"
     ]
    }
   ],
   "source": [
    "counts=dict()\n",
    "line=input('enter a line of txt:')\n",
    "words=line.split()\n",
    "print('words:',words)\n",
    "print('counting...')\n",
    "for word in words:\n",
    "    counts[word]=counts.get(word,0)+1\n",
    "    #print(counts)\n",
    "print(counts)"
   ]
  },
  {
   "cell_type": "code",
   "execution_count": 3,
   "metadata": {},
   "outputs": [
    {
     "name": "stdout",
     "output_type": "stream",
     "text": [
      "sd 22\n",
      "rg 65\n",
      "ewvg 35\n"
     ]
    }
   ],
   "source": [
    "c={'sd':22,'rg':65,'ewvg':35}\n",
    "for key in c:\n",
    "    print(key,c[key])"
   ]
  },
  {
   "cell_type": "code",
   "execution_count": 7,
   "metadata": {},
   "outputs": [
    {
     "name": "stdout",
     "output_type": "stream",
     "text": [
      "['fer', 'aecf', 'erer', 'rth']\n",
      "dict_keys(['fer', 'aecf', 'erer', 'rth']) dict_values([12, 564, 678, 32])\n",
      "dict_items([('fer', 12), ('aecf', 564), ('erer', 678), ('rth', 32)])\n"
     ]
    }
   ],
   "source": [
    "j={'fer':12,'aecf':564,'erer':678,'rth':32}\n",
    "print(list(j))\n",
    "print(j.keys(),j.values())\n",
    "print(j.items())"
   ]
  },
  {
   "cell_type": "code",
   "execution_count": 11,
   "metadata": {},
   "outputs": [
    {
     "name": "stdout",
     "output_type": "stream",
     "text": [
      "fer 12\n",
      "aecf 564\n",
      "erer 678\n",
      "rth 32\n"
     ]
    }
   ],
   "source": [
    "j={'fer':12,'aecf':564,'erer':678,'rth':32}\n",
    "for a,b in j.items():\n",
    "    print(a,b)"
   ]
  },
  {
   "cell_type": "code",
   "execution_count": null,
   "metadata": {},
   "outputs": [],
   "source": [
    "  "
   ]
  },
  {
   "cell_type": "code",
   "execution_count": 73,
   "metadata": {},
   "outputs": [
    {
     "name": "stdout",
     "output_type": "stream",
     "text": [
      "Enter File:  \n",
      "the 7\n"
     ]
    }
   ],
   "source": [
    "f=input('Enter File:  ')\n",
    "if len(f)<1:f='clown.txt'    \n",
    "h=open(f)\n",
    "\n",
    "counts=dict()\n",
    "for lin in h:\n",
    "    lin=lin.rstrip()\n",
    "    ws=lin.split()\n",
    "    #print(ws)\n",
    "    for w in ws:\n",
    "        counts[w]=counts.get(w,0)+1           #get方法相当于if-eles\n",
    "        #print(counts)\n",
    "\n",
    "largest=-99\n",
    "theword=None\n",
    "for k,v in counts.items():\n",
    "    if v>largest:\n",
    "        largest=v\n",
    "        theword=k\n",
    "print(theword,largest)\n",
    "    #print(k,v)"
   ]
  },
  {
   "cell_type": "code",
   "execution_count": 74,
   "metadata": {},
   "outputs": [
    {
     "name": "stdout",
     "output_type": "stream",
     "text": [
      "Enter File:  intro.txt\n",
      "the 226\n"
     ]
    }
   ],
   "source": [
    "f=input('Enter File:  ')\n",
    "if len(f)<1:f='clown.txt'    \n",
    "h=open(f)\n",
    "\n",
    "counts=dict()\n",
    "for lin in h:\n",
    "    lin=lin.rstrip()\n",
    "    ws=lin.split()\n",
    "    #print(ws)\n",
    "    for w in ws:\n",
    "        counts[w]=counts.get(w,0)+1           \n",
    "        #print(counts)\n",
    "\n",
    "largest=-99\n",
    "theword=None\n",
    "for k,v in counts.items():\n",
    "    if v>largest:\n",
    "        largest=v\n",
    "        theword=k\n",
    "print(theword,largest)\n",
    "    #print(k,v)"
   ]
  },
  {
   "cell_type": "code",
   "execution_count": null,
   "metadata": {
    "collapsed": true
   },
   "outputs": [],
   "source": []
  },
  {
   "cell_type": "code",
   "execution_count": null,
   "metadata": {
    "collapsed": true
   },
   "outputs": [],
   "source": []
  },
  {
   "cell_type": "code",
   "execution_count": null,
   "metadata": {
    "collapsed": true,
    "scrolled": true
   },
   "outputs": [],
   "source": [
    "\n"
   ]
  },
  {
   "cell_type": "code",
   "execution_count": null,
   "metadata": {
    "collapsed": true
   },
   "outputs": [],
   "source": []
  },
  {
   "cell_type": "code",
   "execution_count": null,
   "metadata": {
    "collapsed": true
   },
   "outputs": [],
   "source": []
  },
  {
   "cell_type": "code",
   "execution_count": null,
   "metadata": {
    "collapsed": true
   },
   "outputs": [],
   "source": []
  },
  {
   "cell_type": "code",
   "execution_count": null,
   "metadata": {
    "collapsed": true
   },
   "outputs": [],
   "source": []
  },
  {
   "cell_type": "code",
   "execution_count": null,
   "metadata": {
    "collapsed": true
   },
   "outputs": [],
   "source": []
  },
  {
   "cell_type": "code",
   "execution_count": null,
   "metadata": {
    "collapsed": true
   },
   "outputs": [],
   "source": []
  },
  {
   "cell_type": "code",
   "execution_count": null,
   "metadata": {
    "collapsed": true
   },
   "outputs": [],
   "source": []
  },
  {
   "cell_type": "code",
   "execution_count": null,
   "metadata": {
    "collapsed": true
   },
   "outputs": [],
   "source": []
  },
  {
   "cell_type": "code",
   "execution_count": null,
   "metadata": {
    "collapsed": true
   },
   "outputs": [],
   "source": []
  },
  {
   "cell_type": "code",
   "execution_count": null,
   "metadata": {
    "collapsed": true
   },
   "outputs": [],
   "source": []
  },
  {
   "cell_type": "code",
   "execution_count": null,
   "metadata": {
    "collapsed": true
   },
   "outputs": [],
   "source": []
  },
  {
   "cell_type": "code",
   "execution_count": null,
   "metadata": {
    "collapsed": true
   },
   "outputs": [],
   "source": []
  }
 ],
 "metadata": {
  "kernelspec": {
   "display_name": "Python 3",
   "language": "python",
   "name": "python3"
  },
  "language_info": {
   "codemirror_mode": {
    "name": "ipython",
    "version": 3
   },
   "file_extension": ".py",
   "mimetype": "text/x-python",
   "name": "python",
   "nbconvert_exporter": "python",
   "pygments_lexer": "ipython3",
   "version": "3.6.2"
  }
 },
 "nbformat": 4,
 "nbformat_minor": 2
}
