{
 "cells": [
  {
   "cell_type": "code",
   "execution_count": 3,
   "metadata": {},
   "outputs": [
    {
     "name": "stdout",
     "output_type": "stream",
     "text": [
      "Enter the file name:mbox.txt\n",
      "There were 27 subject lines in mbox.txt\n"
     ]
    }
   ],
   "source": [
    "fname=input('Enter the file name:')\n",
    "try:\n",
    "    fhand=open(fname)\n",
    "except:\n",
    "    print('File can not be opened:',fname)\n",
    "    quit()\n",
    "    \n",
    "count=0\n",
    "for line in fhand:\n",
    "    if line.startswith('Subject:'):\n",
    "        count=count+1\n",
    "print('There were',count,'subject lines in',fname)"
   ]
  },
  {
   "cell_type": "code",
   "execution_count": 4,
   "metadata": {},
   "outputs": [
    {
     "name": "stdout",
     "output_type": "stream",
     "text": [
      "Enter the file name:lalala\n",
      "File can not be opened: lalala\n",
      "There were 0 subject lines in lalala\n"
     ]
    }
   ],
   "source": [
    "fname=input('Enter the file name:')\n",
    "try:\n",
    "    fhand=open(fname)\n",
    "except:\n",
    "    print('File can not be opened:',fname)\n",
    "    quit()\n",
    "    \n",
    "count=0\n",
    "for line in fhand:\n",
    "    if line.startswith('Subject:'):\n",
    "        count=count+1\n",
    "print('There were',count,'subject lines in',fname)"
   ]
  },
  {
   "cell_type": "code",
   "execution_count": null,
   "metadata": {
    "collapsed": true
   },
   "outputs": [],
   "source": []
  },
  {
   "cell_type": "code",
   "execution_count": null,
   "metadata": {
    "collapsed": true
   },
   "outputs": [],
   "source": []
  },
  {
   "cell_type": "code",
   "execution_count": null,
   "metadata": {
    "collapsed": true
   },
   "outputs": [],
   "source": []
  }
 ],
 "metadata": {
  "kernelspec": {
   "display_name": "Python 3",
   "language": "python",
   "name": "python3"
  },
  "language_info": {
   "codemirror_mode": {
    "name": "ipython",
    "version": 3
   },
   "file_extension": ".py",
   "mimetype": "text/x-python",
   "name": "python",
   "nbconvert_exporter": "python",
   "pygments_lexer": "ipython3",
   "version": "3.6.2"
  }
 },
 "nbformat": 4,
 "nbformat_minor": 2
}
