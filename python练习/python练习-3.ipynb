{
 "cells": [
  {
   "cell_type": "code",
   "execution_count": 11,
   "metadata": {},
   "outputs": [
    {
     "name": "stdout",
     "output_type": "stream",
     "text": [
      "0.8475\n"
     ]
    }
   ],
   "source": [
    "str='X-DSPAM-Confidence: 0.8475'\n",
    "ipos=str.find(':')     #找到冒号\n",
    "#print(ipos)\n",
    "piece1=str[ipos+1:]\n",
    "#print(piece1)\n",
    "value1=float(piece1)     #piece是一个string\n",
    "print(value1)\n",
    "#print(value1+40.0)\n",
    "\n",
    "#piece2=str[ipos+2:]      #空格不影响结果\n",
    "#print(piece2)\n",
    "#value2=float(piece2)\n",
    "#print(value2)\n",
    "#print(value2+40.0)"
   ]
  },
  {
   "cell_type": "code",
   "execution_count": 18,
   "metadata": {},
   "outputs": [
    {
     "data": {
      "text/plain": [
       "'Hello\\nWorld!'"
      ]
     },
     "execution_count": 18,
     "metadata": {},
     "output_type": "execute_result"
    }
   ],
   "source": [
    "stuff='Hello\\nWorld!'\n",
    "stuff"
   ]
  },
  {
   "cell_type": "code",
   "execution_count": 19,
   "metadata": {},
   "outputs": [
    {
     "name": "stdout",
     "output_type": "stream",
     "text": [
      "Hello\n",
      "World!\n"
     ]
    }
   ],
   "source": [
    "print(stuff)"
   ]
  },
  {
   "cell_type": "code",
   "execution_count": 20,
   "metadata": {},
   "outputs": [
    {
     "name": "stdout",
     "output_type": "stream",
     "text": [
      "X\n",
      "Y\n"
     ]
    },
    {
     "data": {
      "text/plain": [
       "3"
      ]
     },
     "execution_count": 20,
     "metadata": {},
     "output_type": "execute_result"
    }
   ],
   "source": [
    "stuff='X\\nY'\n",
    "print(stuff)\n",
    "len(stuff)       #stuff中有3个字符X,\\n,Y索引分别为0,1,2"
   ]
  },
  {
   "cell_type": "code",
   "execution_count": 29,
   "metadata": {},
   "outputs": [
    {
     "name": "stdout",
     "output_type": "stream",
     "text": [
      "Line Count: 1910\n"
     ]
    }
   ],
   "source": [
    "fhand=open('mbox.txt')\n",
    "count=0\n",
    "for line in fhand:\n",
    "    count=count+1\n",
    "print('Line Count:',count)"
   ]
  },
  {
   "cell_type": "code",
   "execution_count": 30,
   "metadata": {},
   "outputs": [
    {
     "name": "stdout",
     "output_type": "stream",
     "text": [
      "1\n"
     ]
    }
   ],
   "source": [
    "fhand=open('data.txt')\n",
    "count=0\n",
    "for line in fhand:\n",
    "    count=count+1\n",
    "print(count)"
   ]
  },
  {
   "cell_type": "code",
   "execution_count": 31,
   "metadata": {},
   "outputs": [
    {
     "name": "stdout",
     "output_type": "stream",
     "text": [
      "94626\n"
     ]
    }
   ],
   "source": [
    "fhand=open('mbox.txt')\n",
    "inp=fhand.read()\n",
    "print(len(inp))"
   ]
  },
  {
   "cell_type": "code",
   "execution_count": 32,
   "metadata": {},
   "outputs": [
    {
     "name": "stdout",
     "output_type": "stream",
     "text": [
      "From stephen.marquar\n"
     ]
    }
   ],
   "source": [
    "print(inp[:20])"
   ]
  },
  {
   "cell_type": "code",
   "execution_count": 35,
   "metadata": {},
   "outputs": [
    {
     "name": "stdout",
     "output_type": "stream",
     "text": [
      "3\n"
     ]
    }
   ],
   "source": [
    "stuff='X\\nY'\n",
    "count=0\n",
    "for line in stuff:\n",
    "    count=count+1\n",
    "print(count)"
   ]
  },
  {
   "cell_type": "code",
   "execution_count": 36,
   "metadata": {
    "collapsed": true
   },
   "outputs": [],
   "source": [
    "f1=open('mbox.txt')\n",
    "for l1 in f1:\n",
    "    l1=l1.rstrip()\n",
    "    if l1.startswith('Form:'):\n",
    "        print(l1)"
   ]
  },
  {
   "cell_type": "code",
   "execution_count": 37,
   "metadata": {
    "collapsed": true
   },
   "outputs": [],
   "source": [
    "f2=open('mbox.txt')\n",
    "for l2 in f2:\n",
    "    l2=l2.rstrip()\n",
    "    if not l2.startswith('Form:'):\n",
    "        continue\n",
    "    print(l2)"
   ]
  },
  {
   "cell_type": "code",
   "execution_count": null,
   "metadata": {
    "collapsed": true
   },
   "outputs": [],
   "source": []
  }
 ],
 "metadata": {
  "kernelspec": {
   "display_name": "Python 3",
   "language": "python",
   "name": "python3"
  },
  "language_info": {
   "codemirror_mode": {
    "name": "ipython",
    "version": 3
   },
   "file_extension": ".py",
   "mimetype": "text/x-python",
   "name": "python",
   "nbconvert_exporter": "python",
   "pygments_lexer": "ipython3",
   "version": "3.6.2"
  }
 },
 "nbformat": 4,
 "nbformat_minor": 2
}
