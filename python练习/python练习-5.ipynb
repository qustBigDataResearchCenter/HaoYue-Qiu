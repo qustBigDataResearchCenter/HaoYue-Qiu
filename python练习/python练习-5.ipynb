{
 "cells": [
  {
   "cell_type": "code",
   "execution_count": 30,
   "metadata": {},
   "outputs": [
    {
     "name": "stdout",
     "output_type": "stream",
     "text": [
      "Sat\n",
      "Fri\n",
      "Fri\n",
      "Fri\n",
      "Fri\n",
      "Fri\n",
      "Fri\n",
      "Fri\n",
      "Fri\n",
      "Fri\n",
      "Fri\n",
      "Fri\n",
      "Fri\n",
      "Fri\n",
      "Fri\n",
      "Fri\n",
      "Fri\n",
      "Fri\n",
      "Fri\n",
      "Fri\n",
      "Fri\n",
      "Thu\n",
      "Thu\n",
      "Thu\n",
      "Thu\n",
      "Thu\n",
      "Thu\n"
     ]
    }
   ],
   "source": [
    "han=open('mbox-short.txt')\n",
    "\n",
    "for line in han:\n",
    "    line=line.rstrip()   #rstrip()方法去掉字符串尾部的空格,lstrip()方法去掉字符串前端的空格,strip()方法同时去掉字符串前后的空格\n",
    "    #print('Line:',line)\n",
    "    #another way\n",
    "    #if line=='':\n",
    "        #print('Skip Blank')\n",
    "        #continue\n",
    "    wds=line.split()\n",
    "    #print('Words:',wds)\n",
    "    #Guardian\n",
    "    #if len(wds)<1:\n",
    "    #guardian a bit stronger\n",
    "    #if len(wds)<3:\n",
    "        #continue\n",
    "    #guardian in a compound statemend\n",
    "    if len(wds)<3 or wds[0] != 'From':      # dangerous   line为空split()方法之后words为空,则wds[0]out of range\n",
    "        #print('Ignore')\n",
    "        continue\n",
    "    print(wds[2])"
   ]
  },
  {
   "cell_type": "code",
   "execution_count": 33,
   "metadata": {},
   "outputs": [
    {
     "name": "stdout",
     "output_type": "stream",
     "text": [
      "{'money': 12, 'candy': 3, 'tissues': 75} 3\n",
      "{'money': 12, 'candy': 5, 'tissues': 75}\n"
     ]
    }
   ],
   "source": [
    "#list:a liner collection of values that stay in order\n",
    "#dictionary:a \"bag\" of values,each with its own label(or key)\n",
    "purse=dict()\n",
    "purse['money']=12\n",
    "purse['candy']=3\n",
    "purse['tissues']=75\n",
    "print(purse,purse['candy'])\n",
    "purse['candy']=purse['candy']+2\n",
    "print(purse)"
   ]
  },
  {
   "cell_type": "code",
   "execution_count": 35,
   "metadata": {},
   "outputs": [
    {
     "name": "stdout",
     "output_type": "stream",
     "text": [
      "[21, 45]\n",
      "[90, 45]\n"
     ]
    }
   ],
   "source": [
    "l=list()\n",
    "l.append(21)\n",
    "l.append(45)\n",
    "print(l)\n",
    "l[0]=90\n",
    "print(l)"
   ]
  },
  {
   "cell_type": "code",
   "execution_count": 37,
   "metadata": {},
   "outputs": [
    {
     "name": "stdout",
     "output_type": "stream",
     "text": [
      "{'first': 11, 'second': 22}\n",
      "{'first': 33, 'second': 22}\n"
     ]
    }
   ],
   "source": [
    "d=dict()\n",
    "d['first']=11\n",
    "d['second']=22\n",
    "print(d)\n",
    "d['first']=33\n",
    "print(d)"
   ]
  },
  {
   "cell_type": "code",
   "execution_count": null,
   "metadata": {
    "collapsed": true
   },
   "outputs": [],
   "source": []
  }
 ],
 "metadata": {
  "kernelspec": {
   "display_name": "Python 3",
   "language": "python",
   "name": "python3"
  },
  "language_info": {
   "codemirror_mode": {
    "name": "ipython",
    "version": 3
   },
   "file_extension": ".py",
   "mimetype": "text/x-python",
   "name": "python",
   "nbconvert_exporter": "python",
   "pygments_lexer": "ipython3",
   "version": "3.6.2"
  }
 },
 "nbformat": 4,
 "nbformat_minor": 2
}
